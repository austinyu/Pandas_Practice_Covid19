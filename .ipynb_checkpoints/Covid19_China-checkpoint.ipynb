{
 "cells": [
  {
   "cell_type": "code",
   "execution_count": 80,
   "metadata": {},
   "outputs": [],
   "source": [
    "import pandas as pd\n",
    "import matplotlib.pyplot as plt\n",
    "import numpy as np\n",
    "import seaborn as sns"
   ]
  },
  {
   "cell_type": "code",
   "execution_count": 81,
   "metadata": {},
   "outputs": [],
   "source": [
    "covid = pd.read_csv('covid_china.csv')"
   ]
  },
  {
   "cell_type": "code",
   "execution_count": 82,
   "metadata": {},
   "outputs": [],
   "source": [
    "# rename columns \n",
    "covid.rename(columns = {'Observation Date' : 'Date',\n",
    "                       'Province/State' : 'Province',\n",
    "                       'Country/Region' : 'Country'}, inplace = True)"
   ]
  },
  {
   "cell_type": "code",
   "execution_count": 83,
   "metadata": {},
   "outputs": [],
   "source": [
    "def getInfo(df):\n",
    "    print('shape:')\n",
    "    display(df.shape)\n",
    "    print('=' * 20)\n",
    "    print('info():')\n",
    "    display(df.info())\n",
    "    print('=' * 20)\n",
    "    print('dtypes:')\n",
    "    display(df.dtypes)   \n",
    "    print('=' * 20)\n",
    "    print('columns:')\n",
    "    display(df.columns)\n",
    "    print('=' * 20)\n",
    "    print('sample:')\n",
    "    display(df.sample(5))"
   ]
  },
  {
   "cell_type": "code",
   "execution_count": 84,
   "metadata": {},
   "outputs": [
    {
     "name": "stdout",
     "output_type": "stream",
     "text": [
      "shape:\n"
     ]
    },
    {
     "data": {
      "text/plain": [
       "(1666, 8)"
      ]
     },
     "metadata": {},
     "output_type": "display_data"
    },
    {
     "name": "stdout",
     "output_type": "stream",
     "text": [
      "====================\n",
      "info():\n",
      "<class 'pandas.core.frame.DataFrame'>\n",
      "RangeIndex: 1666 entries, 0 to 1665\n",
      "Data columns (total 8 columns):\n",
      " #   Column     Non-Null Count  Dtype  \n",
      "---  ------     --------------  -----  \n",
      " 0   Province   1666 non-null   object \n",
      " 1   Country    1666 non-null   object \n",
      " 2   Confirmed  1666 non-null   int64  \n",
      " 3   Deaths     1666 non-null   int64  \n",
      " 4   Recovered  1666 non-null   int64  \n",
      " 5   Latitude   1666 non-null   float64\n",
      " 6   Longitude  1666 non-null   float64\n",
      " 7   Date       1666 non-null   object \n",
      "dtypes: float64(2), int64(3), object(3)\n",
      "memory usage: 104.2+ KB\n"
     ]
    },
    {
     "data": {
      "text/plain": [
       "None"
      ]
     },
     "metadata": {},
     "output_type": "display_data"
    },
    {
     "name": "stdout",
     "output_type": "stream",
     "text": [
      "====================\n",
      "dtypes:\n"
     ]
    },
    {
     "data": {
      "text/plain": [
       "Province      object\n",
       "Country       object\n",
       "Confirmed      int64\n",
       "Deaths         int64\n",
       "Recovered      int64\n",
       "Latitude     float64\n",
       "Longitude    float64\n",
       "Date          object\n",
       "dtype: object"
      ]
     },
     "metadata": {},
     "output_type": "display_data"
    },
    {
     "name": "stdout",
     "output_type": "stream",
     "text": [
      "====================\n",
      "columns:\n"
     ]
    },
    {
     "data": {
      "text/plain": [
       "Index(['Province', 'Country', 'Confirmed', 'Deaths', 'Recovered', 'Latitude',\n",
       "       'Longitude', 'Date'],\n",
       "      dtype='object')"
      ]
     },
     "metadata": {},
     "output_type": "display_data"
    },
    {
     "name": "stdout",
     "output_type": "stream",
     "text": [
      "====================\n",
      "sample:\n"
     ]
    },
    {
     "data": {
      "text/html": [
       "<div>\n",
       "<style scoped>\n",
       "    .dataframe tbody tr th:only-of-type {\n",
       "        vertical-align: middle;\n",
       "    }\n",
       "\n",
       "    .dataframe tbody tr th {\n",
       "        vertical-align: top;\n",
       "    }\n",
       "\n",
       "    .dataframe thead th {\n",
       "        text-align: right;\n",
       "    }\n",
       "</style>\n",
       "<table border=\"1\" class=\"dataframe\">\n",
       "  <thead>\n",
       "    <tr style=\"text-align: right;\">\n",
       "      <th></th>\n",
       "      <th>Province</th>\n",
       "      <th>Country</th>\n",
       "      <th>Confirmed</th>\n",
       "      <th>Deaths</th>\n",
       "      <th>Recovered</th>\n",
       "      <th>Latitude</th>\n",
       "      <th>Longitude</th>\n",
       "      <th>Date</th>\n",
       "    </tr>\n",
       "  </thead>\n",
       "  <tbody>\n",
       "    <tr>\n",
       "      <th>1208</th>\n",
       "      <td>Shandong</td>\n",
       "      <td>Mainland China</td>\n",
       "      <td>487</td>\n",
       "      <td>1</td>\n",
       "      <td>80</td>\n",
       "      <td>36.0</td>\n",
       "      <td>119.0</td>\n",
       "      <td>11-02-2020</td>\n",
       "    </tr>\n",
       "    <tr>\n",
       "      <th>1665</th>\n",
       "      <td>Zhejiang</td>\n",
       "      <td>Mainland China</td>\n",
       "      <td>1231</td>\n",
       "      <td>1</td>\n",
       "      <td>1211</td>\n",
       "      <td>29.0</td>\n",
       "      <td>120.0</td>\n",
       "      <td>15-03-2020</td>\n",
       "    </tr>\n",
       "    <tr>\n",
       "      <th>839</th>\n",
       "      <td>Jiangsu</td>\n",
       "      <td>Mainland China</td>\n",
       "      <td>631</td>\n",
       "      <td>0</td>\n",
       "      <td>356</td>\n",
       "      <td>33.0</td>\n",
       "      <td>120.0</td>\n",
       "      <td>20-02-2020</td>\n",
       "    </tr>\n",
       "    <tr>\n",
       "      <th>241</th>\n",
       "      <td>Gansu</td>\n",
       "      <td>Mainland China</td>\n",
       "      <td>90</td>\n",
       "      <td>2</td>\n",
       "      <td>54</td>\n",
       "      <td>38.0</td>\n",
       "      <td>102.0</td>\n",
       "      <td>16-02-2020</td>\n",
       "    </tr>\n",
       "    <tr>\n",
       "      <th>1397</th>\n",
       "      <td>Sichuan</td>\n",
       "      <td>Mainland China</td>\n",
       "      <td>539</td>\n",
       "      <td>3</td>\n",
       "      <td>466</td>\n",
       "      <td>30.5</td>\n",
       "      <td>102.5</td>\n",
       "      <td>09-03-2020</td>\n",
       "    </tr>\n",
       "  </tbody>\n",
       "</table>\n",
       "</div>"
      ],
      "text/plain": [
       "      Province         Country  Confirmed  Deaths  Recovered  Latitude  \\\n",
       "1208  Shandong  Mainland China        487       1         80      36.0   \n",
       "1665  Zhejiang  Mainland China       1231       1       1211      29.0   \n",
       "839    Jiangsu  Mainland China        631       0        356      33.0   \n",
       "241      Gansu  Mainland China         90       2         54      38.0   \n",
       "1397   Sichuan  Mainland China        539       3        466      30.5   \n",
       "\n",
       "      Longitude        Date  \n",
       "1208      119.0  11-02-2020  \n",
       "1665      120.0  15-03-2020  \n",
       "839       120.0  20-02-2020  \n",
       "241       102.0  16-02-2020  \n",
       "1397      102.5  09-03-2020  "
      ]
     },
     "metadata": {},
     "output_type": "display_data"
    }
   ],
   "source": [
    "getInfo(covid)"
   ]
  },
  {
   "cell_type": "code",
   "execution_count": 85,
   "metadata": {},
   "outputs": [],
   "source": [
    "# Parse date column\n",
    "covid['Month'] = covid.Date.str.split('-').apply(lambda x : x[1]).astype('int')\n",
    "covid['Day'] = covid.Date.str.split('-').apply(lambda x : x[0]).astype('int')\n",
    "covid.drop(columns = ['Date'], axis = 1, inplace = True)"
   ]
  },
  {
   "cell_type": "code",
   "execution_count": 104,
   "metadata": {},
   "outputs": [],
   "source": [
    "# transform to days after outbreak \n",
    "covid['Days'] = covid.Day\n",
    "for ind, row in covid.iterrows():\n",
    "    if row.Month == 1:\n",
    "        covid.loc[ind, 'Days'] = row.Day - 21\n",
    "    elif row.Month == 2:\n",
    "        covid.loc[ind, 'Days'] = row.Day + 31 - 21\n",
    "    else:\n",
    "        covid.loc[ind, 'Days'] = row.Day + 31 + 28 - 21\n",
    "covid.drop(columns = ['Day', 'Month'], axis = 1, inplace = True)"
   ]
  },
  {
   "cell_type": "code",
   "execution_count": 108,
   "metadata": {},
   "outputs": [],
   "source": [
    "# Drop Country column because the there is only one unique value\n",
    "covid.drop(columns = ['Country'], axis = 1, inplace = True)"
   ]
  },
  {
   "cell_type": "code",
   "execution_count": 124,
   "metadata": {},
   "outputs": [
    {
     "name": "stdout",
     "output_type": "stream",
     "text": [
      "           Confirmed  Deaths\n",
      "Province                    \n",
      "Hubei          67794    3085\n",
      "Guangdong       1360       8\n",
      "Henan           1273      22\n",
      "Zhejiang        1231       1\n",
      "Hunan           1018       4\n",
      "Anhui            990       6\n",
      "Jiangxi          935       1\n",
      "Shandong         760       7\n",
      "Jiangsu          631       0\n",
      "Chongqing        576       6\n"
     ]
    }
   ],
   "source": [
    "# Task 1: Find provinces with the most confirmed cases and deaths\n",
    "task1 = covid.groupby('Province')[['Confirmed', 'Deaths']].max()\n",
    "task1.sort_values(by = 'Confirmed', ascending = False, inplace = True)\n",
    "print(task1.iloc[:10,:])\n",
    "del task1"
   ]
  },
  {
   "cell_type": "code",
   "execution_count": 132,
   "metadata": {},
   "outputs": [
    {
     "name": "stdout",
     "output_type": "stream",
     "text": [
      "Confirmed    67794\n",
      "Deaths        3085\n",
      "Name: 53, dtype: int64\n",
      "53\n"
     ]
    }
   ],
   "source": [
    "# task 2: Find the highest total confirmed cases and deaths in a single day\n",
    "task2 = covid.groupby('Days')[['Confirmed', 'Deaths']].max()\n",
    "print(task2.sort_values(by = 'Confirmed', ascending = False).iloc[0, :])\n",
    "print(task2.sort_values(by = 'Deaths', ascending = False).iloc[0, :].name)\n",
    "del task2"
   ]
  },
  {
   "cell_type": "code",
   "execution_count": 155,
   "metadata": {},
   "outputs": [
    {
     "data": {
      "text/plain": [
       "<matplotlib.axes._subplots.AxesSubplot at 0x12bd731f0>"
      ]
     },
     "metadata": {},
     "output_type": "display_data"
    },
    {
     "data": {
      "image/png": "[encoded data removed]",
      "text/plain": [
       "<Figure size 432x288 with 1 Axes>"
      ]
     },
     "metadata": {
      "needs_background": "light"
     },
     "output_type": "display_data"
    }
   ],
   "source": [
    "# task 3: plot daily confirmed, deaths, Recovered vs. Days \n",
    "task3 = covid.groupby('Days')[['Confirmed', 'Deaths', 'Recovered']].sum()\n",
    "# drop day 39, it is so weird ...\n",
    "task3.drop(39, axis = 0, inplace = True)\n",
    "display(sns.lineplot(data = task3))\n",
    "del task3"
   ]
  },
  {
   "cell_type": "code",
   "execution_count": 156,
   "metadata": {},
   "outputs": [],
   "source": [
    "# Task 4 the same prompt as task 3, but now you have to distinguish people within Province 'Hubei' from those outside of it\n",
    "# from now on, I will drop any data from day 39, because for some unkown reason, data seems incorrect on that day\n",
    "covid.drop(index = covid.loc[covid.Days == 39,:].index, axis = 0, inplace = True)"
   ]
  },
  {
   "cell_type": "code",
   "execution_count": 194,
   "metadata": {},
   "outputs": [],
   "source": [
    "task4 = covid.groupby(['Hubei', 'Days'])[['Confirmed', 'Deaths', 'Recovered']].sum()"
   ]
  },
  {
   "cell_type": "code",
   "execution_count": 200,
   "metadata": {},
   "outputs": [
    {
     "data": {
      "image/png": "[encoded data removed]",
      "text/plain": [
       "<Figure size 432x288 with 1 Axes>"
      ]
     },
     "metadata": {
      "needs_background": "light"
     },
     "output_type": "display_data"
    }
   ],
   "source": [
    "print('Confirmed')\n",
    "ax = sns.lineplot(data = task4.loc[:,'Confirmed'].unstack().T.fillna(0), dashes=False)"
   ]
  },
  {
   "cell_type": "code",
   "execution_count": 201,
   "metadata": {},
   "outputs": [
    {
     "name": "stdout",
     "output_type": "stream",
     "text": [
      "Deaths\n"
     ]
    },
    {
     "data": {
      "image/png": "[encoded data removed]",
      "text/plain": [
       "<Figure size 432x288 with 1 Axes>"
      ]
     },
     "metadata": {
      "needs_background": "light"
     },
     "output_type": "display_data"
    }
   ],
   "source": [
    "print('Deaths')\n",
    "ax = sns.lineplot(data = task4.loc[:,'Deaths'].unstack().T.fillna(0), dashes=False)"
   ]
  },
  {
   "cell_type": "code",
   "execution_count": 202,
   "metadata": {},
   "outputs": [
    {
     "name": "stdout",
     "output_type": "stream",
     "text": [
      "Recovered\n"
     ]
    },
    {
     "data": {
      "image/png": "[encoded data removed]",
      "text/plain": [
       "<Figure size 432x288 with 1 Axes>"
      ]
     },
     "metadata": {
      "needs_background": "light"
     },
     "output_type": "display_data"
    }
   ],
   "source": [
    "print('Recovered')\n",
    "ax = sns.lineplot(data = task4.loc[:,'Recovered'].unstack().T.fillna(0), dashes=False)"
   ]
  }
 ],
 "metadata": {
  "kernelspec": {
   "display_name": "Python 3",
   "language": "python",
   "name": "python3"
  },
  "language_info": {
   "codemirror_mode": {
    "name": "ipython",
    "version": 3
   },
   "file_extension": ".py",
   "mimetype": "text/x-python",
   "name": "python",
   "nbconvert_exporter": "python",
   "pygments_lexer": "ipython3",
   "version": "3.8.0"
  }
 },
 "nbformat": 4,
 "nbformat_minor": 4
}
